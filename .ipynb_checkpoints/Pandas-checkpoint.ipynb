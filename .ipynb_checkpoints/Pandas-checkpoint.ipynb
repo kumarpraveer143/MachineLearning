{
 "cells": [
  {
   "cell_type": "code",
   "execution_count": 2,
   "id": "8a609b35-f143-4a74-9690-a7fd9da75f33",
   "metadata": {},
   "outputs": [],
   "source": [
    "import numpy as np\n",
    "import pandas as pd"
   ]
  },
  {
   "cell_type": "code",
   "execution_count": 3,
   "id": "0d3f4687-c51b-4ada-8dd0-46c3a2ddbddf",
   "metadata": {},
   "outputs": [
    {
     "name": "stdout",
     "output_type": "stream",
     "text": [
      "0        India\n",
      "1     Pakistan\n",
      "2        Nepal\n",
      "3    Sri Lanka\n",
      "4          USA\n",
      "dtype: object\n"
     ]
    }
   ],
   "source": [
    "country=[\"India\",\"Pakistan\",\"Nepal\",\"Sri Lanka\",\"USA\"]\n",
    "series=pd.Series(country)\n",
    "print(series)"
   ]
  },
  {
   "cell_type": "code",
   "execution_count": 15,
   "id": "50c69b9d-5fd2-4526-989e-73ccc04e40cd",
   "metadata": {},
   "outputs": [
    {
     "name": "stdout",
     "output_type": "stream",
     "text": [
      "0     13\n",
      "1     24\n",
      "2     56\n",
      "3     78\n",
      "4    100\n",
      "dtype: int64\n"
     ]
    }
   ],
   "source": [
    "runs=[13,24,56,78,100]\n",
    "runSeries=pd.Series(runs)\n",
    "print(runSeries)"
   ]
  },
  {
   "cell_type": "code",
   "execution_count": 20,
   "id": "e664986c-63be-4145-82ab-11845aeade70",
   "metadata": {},
   "outputs": [
    {
     "name": "stdout",
     "output_type": "stream",
     "text": [
      "maths       67\n",
      "english     57\n",
      "science     89\n",
      "hindi      100\n",
      "Name: Praveer k marks, dtype: int64\n",
      "The size of the  4\n",
      "is unique  True\n"
     ]
    }
   ],
   "source": [
    "marks=[67,57,89,100]\n",
    "subjects=['maths','english','science','hindi']\n",
    "\n",
    "marks=pd.Series(marks,index=subjects,name=\"Praveer k marks\")\n",
    "print(marks)\n",
    "print(\"The size of the \",marks.size)\n",
    "marks.dtype\n",
    "print(\"is unique \",marks.is_unique)"
   ]
  },
  {
   "cell_type": "raw",
   "id": "847f0e8b-1a8a-41a2-a4bc-b76e893ccba6",
   "metadata": {},
   "source": [
    "import pandas as pd\n",
    "pd.Series([1,1,2,3,4,5]).is_unique"
   ]
  },
  {
   "cell_type": "raw",
   "id": "781f53fd-2c34-423b-af85-37ce793ade00",
   "metadata": {},
   "source": [
    "marks.values"
   ]
  },
  {
   "cell_type": "markdown",
   "id": "61394d20-665d-4f24-89b7-05d485b669f4",
   "metadata": {},
   "source": [
    "***** Series using read_csv"
   ]
  },
  {
   "cell_type": "code",
   "execution_count": null,
   "id": "e05f4a10-9c27-4232-a75a-b1a1129366aa",
   "metadata": {},
   "outputs": [],
   "source": [
    "bollywood=pd."
   ]
  }
 ],
 "metadata": {
  "kernelspec": {
   "display_name": "Python 3 (ipykernel)",
   "language": "python",
   "name": "python3"
  },
  "language_info": {
   "codemirror_mode": {
    "name": "ipython",
    "version": 3
   },
   "file_extension": ".py",
   "mimetype": "text/x-python",
   "name": "python",
   "nbconvert_exporter": "python",
   "pygments_lexer": "ipython3",
   "version": "3.12.9"
  }
 },
 "nbformat": 4,
 "nbformat_minor": 5
}
