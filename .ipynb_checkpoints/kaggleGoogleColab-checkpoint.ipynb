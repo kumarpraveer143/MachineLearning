{
 "cells": [
  {
   "cell_type": "markdown",
   "id": "51d689ad-21f7-4c20-a1aa-149be7bcd22d",
   "metadata": {},
   "source": [
    "Taking Data from kaggle to Google Colab"
   ]
  },
  {
   "cell_type": "code",
   "execution_count": 4,
   "id": "65a72656-ac36-4fca-874b-126f36215f32",
   "metadata": {},
   "outputs": [
    {
     "name": "stdout",
     "output_type": "stream",
     "text": [
      "cp: cannot stat 'kaggle.json': No such file or directory\n"
     ]
    }
   ],
   "source": [
    "!mkdir -p ~/.kaggle\n",
    "!cp kaggle.json ~/.kaggle/"
   ]
  },
  {
   "cell_type": "code",
   "execution_count": 5,
   "id": "3460c4f7-4d85-485b-836e-db7dd980c821",
   "metadata": {},
   "outputs": [
    {
     "name": "stdout",
     "output_type": "stream",
     "text": [
      "/bin/bash: line 1: kaggle: command not found\n"
     ]
    }
   ],
   "source": [
    "!kaggle datasets download -d wobotintelligence/face-mask-detection-dataset"
   ]
  },
  {
   "cell_type": "code",
   "execution_count": null,
   "id": "1bcf88d3-c881-4424-b0db-431cbe11581a",
   "metadata": {},
   "outputs": [],
   "source": [
    "import zipfile\n",
    "zip_ref = zipfile.ZipFile('face-mask-detection-dataset.zip', 'r')\n",
    "zip_ref.extractall('/content')\n",
    "zip_ref.close()"
   ]
  }
 ],
 "metadata": {
  "kernelspec": {
   "display_name": "Python 3 (ipykernel)",
   "language": "python",
   "name": "python3"
  },
  "language_info": {
   "codemirror_mode": {
    "name": "ipython",
    "version": 3
   },
   "file_extension": ".py",
   "mimetype": "text/x-python",
   "name": "python",
   "nbconvert_exporter": "python",
   "pygments_lexer": "ipython3",
   "version": "3.12.9"
  }
 },
 "nbformat": 4,
 "nbformat_minor": 5
}
