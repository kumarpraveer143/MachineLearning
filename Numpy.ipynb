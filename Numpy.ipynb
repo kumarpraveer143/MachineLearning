{
 "cells": [
  {
   "cell_type": "markdown",
   "id": "ed0c126c-b355-424b-a203-0eb125d5ec20",
   "metadata": {},
   "source": [
    "** Nympy for scientific Computing! **\n",
    "The element of the numpy are all required to be of the same data type!"
   ]
  },
  {
   "cell_type": "code",
   "execution_count": 5,
   "id": "86a67aef-4c92-487f-8b04-8c8b3dd9ccc1",
   "metadata": {},
   "outputs": [],
   "source": [
    "import numpy as np;\n"
   ]
  },
  {
   "cell_type": "code",
   "execution_count": 7,
   "id": "7588dbbc-6379-4c0a-9de0-868da6e38b9f",
   "metadata": {},
   "outputs": [
    {
     "name": "stdout",
     "output_type": "stream",
     "text": [
      "[1 2 3 4 5 6 7 8]\n"
     ]
    }
   ],
   "source": [
    "a=np.array([1,2,3,4,5,6,7,8])\n",
    "print(a)"
   ]
  },
  {
   "cell_type": "code",
   "execution_count": 11,
   "id": "9d581829-ec0b-473e-ac33-33b4d46a9c0c",
   "metadata": {},
   "outputs": [
    {
     "name": "stdout",
     "output_type": "stream",
     "text": [
      "[1 3 5 7 9]\n"
     ]
    }
   ],
   "source": [
    "b=np.arange(1,11,2) # same as range function\n",
    "print(b)"
   ]
  },
  {
   "cell_type": "code",
   "execution_count": 15,
   "id": "c6b66367-1ba3-496e-9336-2543a4e1f08c",
   "metadata": {},
   "outputs": [
    {
     "name": "stdout",
     "output_type": "stream",
     "text": [
      "[[1. 1. 1. 1.]\n",
      " [1. 1. 1. 1.]\n",
      " [1. 1. 1. 1.]]\n"
     ]
    }
   ],
   "source": [
    "c=np.ones((3,4))\n",
    "print(c)"
   ]
  },
  {
   "cell_type": "code",
   "execution_count": 27,
   "id": "a61ebca7-ce0c-46d6-812e-d9275c8ce577",
   "metadata": {},
   "outputs": [
    {
     "name": "stdout",
     "output_type": "stream",
     "text": [
      "[[1 2 3]\n",
      " [4 5 6]]\n",
      "Dimention of the array is : 2\n",
      "Shape of the array is :  (2, 3)\n",
      "Size of the array is :  6\n",
      "Data type of the array is : int64\n"
     ]
    }
   ],
   "source": [
    "d=np.array([[1,2,3],[4,5,6]])\n",
    "print(d)\n",
    "print(\"Dimention of the array is :\",d.ndim)\n",
    "print(\"Shape of the array is : \",d.shape)\n",
    "print(\"Size of the array is : \",d.size)\n",
    "print(\"Data type of the array is :\",d.dtype)"
   ]
  },
  {
   "cell_type": "code",
   "execution_count": 30,
   "id": "a47150fa-bcc5-47e5-a4ea-1ab15f4fe6a4",
   "metadata": {},
   "outputs": [
    {
     "name": "stdout",
     "output_type": "stream",
     "text": [
      "The number in the array which is greater than 4\n"
     ]
    },
    {
     "data": {
      "text/plain": [
       "array([[False, False, False],\n",
       "       [False,  True,  True]])"
      ]
     },
     "execution_count": 30,
     "metadata": {},
     "output_type": "execute_result"
    }
   ],
   "source": [
    "print(\"The number in the array which is greater than 4\")\n",
    "d>4"
   ]
  },
  {
   "cell_type": "code",
   "execution_count": 35,
   "id": "f524c6ee-df2c-4370-b401-f79fd89b5005",
   "metadata": {},
   "outputs": [
    {
     "name": "stdout",
     "output_type": "stream",
     "text": [
      "[ 2  4  6  8 10 12 14 16]\n"
     ]
    }
   ],
   "source": [
    "#vector operation : are the operation which is applied on the two np vector\n",
    "a1=np.array([1,2,3,4,5,6,7,8])\n",
    "a2=np.array([1,2,3,4,5,6,7,8])\n",
    "print(a1+a2) #this is only for when they both have the same dimention!"
   ]
  },
  {
   "cell_type": "code",
   "execution_count": 72,
   "id": "9e38e4da-66ea-4653-a8dd-51bff4f8aefe",
   "metadata": {},
   "outputs": [
    {
     "data": {
      "text/plain": [
       "array([72,  4, 33, 76, 37,  1, 90, 27, 33, 32])"
      ]
     },
     "execution_count": 72,
     "metadata": {},
     "output_type": "execute_result"
    }
   ],
   "source": [
    "# Array functions\n",
    "import random\n",
    "# randome number from 1 to 99 of size 10\n",
    "a1=np.random.randint(1,100,size=10)\n",
    "a1"
   ]
  },
  {
   "cell_type": "code",
   "execution_count": 80,
   "id": "3fd0c6d1-04bb-4b76-b8f1-09f34fc2f631",
   "metadata": {},
   "outputs": [
    {
     "name": "stdout",
     "output_type": "stream",
     "text": [
      "The give array is  [0 1 2 3 4 5 6 7 8 9]\n",
      "max :  9\n",
      "Sum :  45\n"
     ]
    }
   ],
   "source": [
    "arr=np.array([i for i in range(10)])\n",
    "print(\"The give array is \",arr)\n",
    "print(\"max : \",np.max(arr))\n",
    "print(\"Sum : \",np.sum(arr))"
   ]
  },
  {
   "cell_type": "code",
   "execution_count": 86,
   "id": "d319e069-8214-4d50-9bc0-b0def567c882",
   "metadata": {},
   "outputs": [
    {
     "name": "stdout",
     "output_type": "stream",
     "text": [
      "[[1 2 3]\n",
      " [4 5 6]\n",
      " [7 8 9]]\n",
      "Sum of cols  [12 15 18]\n",
      "Sum of first row  6\n"
     ]
    }
   ],
   "source": [
    "mat=np.array([[1,2,3],[4,5,6],[7,8,9]])\n",
    "print(mat)\n",
    "print(\"Sum of cols \",np.sum(mat,axis=0));\n",
    "# o = rows \n",
    "print(\"Sum of first row \",np.sum(mat[0,:]))"
   ]
  },
  {
   "cell_type": "code",
   "execution_count": 88,
   "id": "ea66a010-9dad-4ed4-a92e-c85cb2b0185e",
   "metadata": {},
   "outputs": [
    {
     "name": "stdout",
     "output_type": "stream",
     "text": [
      "[[ 6 12 18]\n",
      " [ 6 12 18]\n",
      " [ 6 12 18]]\n"
     ]
    }
   ],
   "source": [
    "a1=np.array([[1,2,3],[1,2,3],[1,2,3]])\n",
    "a2=np.array([[1,2,3],[1,2,3],[1,2,3]])\n",
    "a3=np.dot(a1,a2)\n",
    "print(a3)"
   ]
  },
  {
   "cell_type": "code",
   "execution_count": 95,
   "id": "270c45db-19ec-4707-aad1-a6417e1fc21e",
   "metadata": {},
   "outputs": [],
   "source": [
    "# Indexing and slicing\n",
    "a1=np.arange(10)\n",
    "a2=np.arange(12).reshape(3,4)\n",
    "a3=np.arange(8).reshape(2,2,2)"
   ]
  },
  {
   "cell_type": "code",
   "execution_count": 104,
   "id": "8e6431af-f22d-4eee-bb88-3d78a28e86fa",
   "metadata": {},
   "outputs": [
    {
     "name": "stdout",
     "output_type": "stream",
     "text": [
      "[0 1 2 3 4 5 6 7 8 9]\n",
      "[2 3 4 5]\n"
     ]
    }
   ],
   "source": [
    "print(a1)\n",
    "print(a1[2:6]) #last one is not included!"
   ]
  },
  {
   "cell_type": "code",
   "execution_count": 109,
   "id": "8d8b2da2-5b24-485d-ad3a-ffdf41cf443f",
   "metadata": {},
   "outputs": [
    {
     "name": "stdout",
     "output_type": "stream",
     "text": [
      "[[ 0  1  2  3]\n",
      " [ 4  5  6  7]\n",
      " [ 8  9 10 11]]\n",
      "6\n",
      "[4 5 6 7]\n"
     ]
    }
   ],
   "source": [
    "print(a2)\n",
    "print(a2[1,2]) #find the location of 6\n",
    "print(a2[1,:]) #find all the element in the 2nd row"
   ]
  },
  {
   "cell_type": "code",
   "execution_count": 114,
   "id": "c85d8a8c-a005-4908-a04d-bed6314bbf8d",
   "metadata": {},
   "outputs": [
    {
     "name": "stdout",
     "output_type": "stream",
     "text": [
      "[[ 5  6]\n",
      " [ 9 10]]\n",
      "[[ 0  3]\n",
      " [ 8 11]]\n"
     ]
    }
   ],
   "source": [
    "print(a2[1:,1:3])\n",
    "#problem:- print all the corners of the square.\n",
    "print(a2[::2,::3])"
   ]
  },
  {
   "cell_type": "code",
   "execution_count": 117,
   "id": "be25aa0f-1220-4bba-989b-3fe5254637c2",
   "metadata": {},
   "outputs": [
    {
     "name": "stdout",
     "output_type": "stream",
     "text": [
      "[[ 0  2]\n",
      " [ 8 10]]\n"
     ]
    }
   ],
   "source": [
    "print(a2[::2,::2])"
   ]
  },
  {
   "cell_type": "code",
   "execution_count": 123,
   "id": "50eab214-7552-4828-b97c-d23adad4e152",
   "metadata": {},
   "outputs": [
    {
     "name": "stdout",
     "output_type": "stream",
     "text": [
      "0\n",
      "1\n",
      "2\n",
      "3\n",
      "4\n",
      "5\n",
      "6\n",
      "7\n",
      "8\n",
      "9\n"
     ]
    }
   ],
   "source": [
    "#iterating\n",
    "a1\n",
    "for i in a1:\n",
    "    print(i)"
   ]
  },
  {
   "cell_type": "code",
   "execution_count": 126,
   "id": "650095f6-9f81-49b0-a787-9322c652c3ab",
   "metadata": {},
   "outputs": [
    {
     "name": "stdout",
     "output_type": "stream",
     "text": [
      "[0 1 2 3]\n",
      "[4 5 6 7]\n",
      "[ 8  9 10 11]\n"
     ]
    },
    {
     "data": {
      "text/plain": [
       "array([[ 0,  4,  8],\n",
       "       [ 1,  5,  9],\n",
       "       [ 2,  6, 10],\n",
       "       [ 3,  7, 11]])"
      ]
     },
     "execution_count": 126,
     "metadata": {},
     "output_type": "execute_result"
    }
   ],
   "source": [
    "a2\n",
    "for i in a2:\n",
    "    print(i)\n",
    "np.transpose(a2)\n",
    "# shorthand for transpose\n",
    "a2.T"
   ]
  },
  {
   "cell_type": "code",
   "execution_count": 127,
   "id": "7ff939b5-e679-4462-af46-854569c29740",
   "metadata": {},
   "outputs": [
    {
     "data": {
      "text/plain": [
       "array([0, 1, 2, 3, 4, 5, 6, 7])"
      ]
     },
     "execution_count": 127,
     "metadata": {},
     "output_type": "execute_result"
    }
   ],
   "source": [
    "a3.ravel()"
   ]
  },
  {
   "cell_type": "code",
   "execution_count": 136,
   "id": "708652b9-c502-4e02-becd-00ab3711998d",
   "metadata": {},
   "outputs": [],
   "source": [
    "# Stacking - to combine multiple data togeather!\n",
    "a4=np.arange(12).reshape(3,4)\n",
    "a5=np.arange(12,24).reshape(3,4)"
   ]
  },
  {
   "cell_type": "code",
   "execution_count": 137,
   "id": "958d7d6f-429b-430f-b030-144b27b277a3",
   "metadata": {},
   "outputs": [
    {
     "name": "stdout",
     "output_type": "stream",
     "text": [
      "[[12 13 14 15]\n",
      " [16 17 18 19]\n",
      " [20 21 22 23]]\n",
      "[[ 0  1  2  3 12 13 14 15]\n",
      " [ 4  5  6  7 16 17 18 19]\n",
      " [ 8  9 10 11 20 21 22 23]]\n"
     ]
    }
   ],
   "source": [
    "print(a5)\n",
    "a6=np.hstack((a4,a5))\n",
    "print(a6)"
   ]
  },
  {
   "cell_type": "code",
   "execution_count": 138,
   "id": "f0b03493-4e06-4340-96fc-ba776c8d3111",
   "metadata": {},
   "outputs": [
    {
     "name": "stdout",
     "output_type": "stream",
     "text": [
      "[[ 0  1  2  3]\n",
      " [ 4  5  6  7]\n",
      " [ 8  9 10 11]\n",
      " [12 13 14 15]\n",
      " [16 17 18 19]\n",
      " [20 21 22 23]]\n"
     ]
    }
   ],
   "source": [
    "a7=np.vstack((a4,a5))\n",
    "print(a7)"
   ]
  }
 ],
 "metadata": {
  "kernelspec": {
   "display_name": "Python 3 (ipykernel)",
   "language": "python",
   "name": "python3"
  },
  "language_info": {
   "codemirror_mode": {
    "name": "ipython",
    "version": 3
   },
   "file_extension": ".py",
   "mimetype": "text/x-python",
   "name": "python",
   "nbconvert_exporter": "python",
   "pygments_lexer": "ipython3",
   "version": "3.12.9"
  }
 },
 "nbformat": 4,
 "nbformat_minor": 5
}
