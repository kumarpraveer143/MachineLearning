{
 "cells": [
  {
   "cell_type": "markdown",
   "id": "ed0c126c-b355-424b-a203-0eb125d5ec20",
   "metadata": {},
   "source": [
    "** Nympy for scientific Computing! **\n",
    "The element of the numpy are all required to be of the same data type!"
   ]
  },
  {
   "cell_type": "code",
   "execution_count": 5,
   "id": "86a67aef-4c92-487f-8b04-8c8b3dd9ccc1",
   "metadata": {},
   "outputs": [],
   "source": [
    "import numpy as np;\n"
   ]
  },
  {
   "cell_type": "code",
   "execution_count": 7,
   "id": "7588dbbc-6379-4c0a-9de0-868da6e38b9f",
   "metadata": {},
   "outputs": [
    {
     "name": "stdout",
     "output_type": "stream",
     "text": [
      "[1 2 3 4 5 6 7 8]\n"
     ]
    }
   ],
   "source": [
    "a=np.array([1,2,3,4,5,6,7,8])\n",
    "print(a)"
   ]
  },
  {
   "cell_type": "code",
   "execution_count": 11,
   "id": "9d581829-ec0b-473e-ac33-33b4d46a9c0c",
   "metadata": {},
   "outputs": [
    {
     "name": "stdout",
     "output_type": "stream",
     "text": [
      "[1 3 5 7 9]\n"
     ]
    }
   ],
   "source": [
    "b=np.arange(1,11,2) # same as range function\n",
    "print(b)"
   ]
  },
  {
   "cell_type": "code",
   "execution_count": 15,
   "id": "c6b66367-1ba3-496e-9336-2543a4e1f08c",
   "metadata": {},
   "outputs": [
    {
     "name": "stdout",
     "output_type": "stream",
     "text": [
      "[[1. 1. 1. 1.]\n",
      " [1. 1. 1. 1.]\n",
      " [1. 1. 1. 1.]]\n"
     ]
    }
   ],
   "source": [
    "c=np.ones((3,4))\n",
    "print(c)"
   ]
  },
  {
   "cell_type": "code",
   "execution_count": 27,
   "id": "a61ebca7-ce0c-46d6-812e-d9275c8ce577",
   "metadata": {},
   "outputs": [
    {
     "name": "stdout",
     "output_type": "stream",
     "text": [
      "[[1 2 3]\n",
      " [4 5 6]]\n",
      "Dimention of the array is : 2\n",
      "Shape of the array is :  (2, 3)\n",
      "Size of the array is :  6\n",
      "Data type of the array is : int64\n"
     ]
    }
   ],
   "source": [
    "d=np.array([[1,2,3],[4,5,6]])\n",
    "print(d)\n",
    "print(\"Dimention of the array is :\",d.ndim)\n",
    "print(\"Shape of the array is : \",d.shape)\n",
    "print(\"Size of the array is : \",d.size)\n",
    "print(\"Data type of the array is :\",d.dtype)"
   ]
  },
  {
   "cell_type": "code",
   "execution_count": 30,
   "id": "a47150fa-bcc5-47e5-a4ea-1ab15f4fe6a4",
   "metadata": {},
   "outputs": [
    {
     "name": "stdout",
     "output_type": "stream",
     "text": [
      "The number in the array which is greater than 4\n"
     ]
    },
    {
     "data": {
      "text/plain": [
       "array([[False, False, False],\n",
       "       [False,  True,  True]])"
      ]
     },
     "execution_count": 30,
     "metadata": {},
     "output_type": "execute_result"
    }
   ],
   "source": [
    "print(\"The number in the array which is greater than 4\")\n",
    "d>4"
   ]
  },
  {
   "cell_type": "code",
   "execution_count": 35,
   "id": "f524c6ee-df2c-4370-b401-f79fd89b5005",
   "metadata": {},
   "outputs": [
    {
     "name": "stdout",
     "output_type": "stream",
     "text": [
      "[ 2  4  6  8 10 12 14 16]\n"
     ]
    }
   ],
   "source": [
    "#vector operation : are the operation which is applied on the two np vector\n",
    "a1=np.array([1,2,3,4,5,6,7,8])\n",
    "a2=np.array([1,2,3,4,5,6,7,8])\n",
    "print(a1+a2) #this is only for when they both have the same dimention!"
   ]
  },
  {
   "cell_type": "code",
   "execution_count": 72,
   "id": "9e38e4da-66ea-4653-a8dd-51bff4f8aefe",
   "metadata": {},
   "outputs": [
    {
     "data": {
      "text/plain": [
       "array([72,  4, 33, 76, 37,  1, 90, 27, 33, 32])"
      ]
     },
     "execution_count": 72,
     "metadata": {},
     "output_type": "execute_result"
    }
   ],
   "source": [
    "# Array functions\n",
    "import random\n",
    "# randome number from 1 to 99 of size 10\n",
    "a1=np.random.randint(1,100,size=10)\n",
    "a1"
   ]
  },
  {
   "cell_type": "code",
   "execution_count": 80,
   "id": "3fd0c6d1-04bb-4b76-b8f1-09f34fc2f631",
   "metadata": {},
   "outputs": [
    {
     "name": "stdout",
     "output_type": "stream",
     "text": [
      "The give array is  [0 1 2 3 4 5 6 7 8 9]\n",
      "max :  9\n",
      "Sum :  45\n"
     ]
    }
   ],
   "source": [
    "arr=np.array([i for i in range(10)])\n",
    "print(\"The give array is \",arr)\n",
    "print(\"max : \",np.max(arr))\n",
    "print(\"Sum : \",np.sum(arr))"
   ]
  },
  {
   "cell_type": "code",
   "execution_count": 86,
   "id": "d319e069-8214-4d50-9bc0-b0def567c882",
   "metadata": {},
   "outputs": [
    {
     "name": "stdout",
     "output_type": "stream",
     "text": [
      "[[1 2 3]\n",
      " [4 5 6]\n",
      " [7 8 9]]\n",
      "Sum of cols  [12 15 18]\n",
      "Sum of first row  6\n"
     ]
    }
   ],
   "source": [
    "mat=np.array([[1,2,3],[4,5,6],[7,8,9]])\n",
    "print(mat)\n",
    "print(\"Sum of cols \",np.sum(mat,axis=0));\n",
    "# o = rows \n",
    "print(\"Sum of first row \",np.sum(mat[0,:]))"
   ]
  },
  {
   "cell_type": "code",
   "execution_count": 88,
   "id": "ea66a010-9dad-4ed4-a92e-c85cb2b0185e",
   "metadata": {},
   "outputs": [
    {
     "name": "stdout",
     "output_type": "stream",
     "text": [
      "[[ 6 12 18]\n",
      " [ 6 12 18]\n",
      " [ 6 12 18]]\n"
     ]
    }
   ],
   "source": [
    "a1=np.array([[1,2,3],[1,2,3],[1,2,3]])\n",
    "a2=np.array([[1,2,3],[1,2,3],[1,2,3]])\n",
    "a3=np.dot(a1,a2)\n",
    "print(a3)"
   ]
  },
  {
   "cell_type": "code",
   "execution_count": 95,
   "id": "270c45db-19ec-4707-aad1-a6417e1fc21e",
   "metadata": {},
   "outputs": [],
   "source": [
    "# Indexing and slicing\n",
    "a1=np.arange(10)\n",
    "a2=np.arange(12).reshape(3,4)\n",
    "a3=np.arange(8).reshape(2,2,2)"
   ]
  },
  {
   "cell_type": "code",
   "execution_count": 104,
   "id": "8e6431af-f22d-4eee-bb88-3d78a28e86fa",
   "metadata": {},
   "outputs": [
    {
     "name": "stdout",
     "output_type": "stream",
     "text": [
      "[0 1 2 3 4 5 6 7 8 9]\n",
      "[2 3 4 5]\n"
     ]
    }
   ],
   "source": [
    "print(a1)\n",
    "print(a1[2:6]) #last one is not included!"
   ]
  },
  {
   "cell_type": "code",
   "execution_count": 109,
   "id": "8d8b2da2-5b24-485d-ad3a-ffdf41cf443f",
   "metadata": {},
   "outputs": [
    {
     "name": "stdout",
     "output_type": "stream",
     "text": [
      "[[ 0  1  2  3]\n",
      " [ 4  5  6  7]\n",
      " [ 8  9 10 11]]\n",
      "6\n",
      "[4 5 6 7]\n"
     ]
    }
   ],
   "source": [
    "print(a2)\n",
    "print(a2[1,2]) #find the location of 6\n",
    "print(a2[1,:]) #find all the element in the 2nd row"
   ]
  },
  {
   "cell_type": "code",
   "execution_count": 114,
   "id": "c85d8a8c-a005-4908-a04d-bed6314bbf8d",
   "metadata": {},
   "outputs": [
    {
     "name": "stdout",
     "output_type": "stream",
     "text": [
      "[[ 5  6]\n",
      " [ 9 10]]\n",
      "[[ 0  3]\n",
      " [ 8 11]]\n"
     ]
    }
   ],
   "source": [
    "print(a2[1:,1:3])\n",
    "#problem:- print all the corners of the square.\n",
    "print(a2[::2,::3])"
   ]
  },
  {
   "cell_type": "code",
   "execution_count": 117,
   "id": "be25aa0f-1220-4bba-989b-3fe5254637c2",
   "metadata": {},
   "outputs": [
    {
     "name": "stdout",
     "output_type": "stream",
     "text": [
      "[[ 0  2]\n",
      " [ 8 10]]\n"
     ]
    }
   ],
   "source": [
    "print(a2[::2,::2])"
   ]
  },
  {
   "cell_type": "code",
   "execution_count": 123,
   "id": "50eab214-7552-4828-b97c-d23adad4e152",
   "metadata": {},
   "outputs": [
    {
     "name": "stdout",
     "output_type": "stream",
     "text": [
      "0\n",
      "1\n",
      "2\n",
      "3\n",
      "4\n",
      "5\n",
      "6\n",
      "7\n",
      "8\n",
      "9\n"
     ]
    }
   ],
   "source": [
    "#iterating\n",
    "a1\n",
    "for i in a1:\n",
    "    print(i)"
   ]
  },
  {
   "cell_type": "code",
   "execution_count": 126,
   "id": "650095f6-9f81-49b0-a787-9322c652c3ab",
   "metadata": {},
   "outputs": [
    {
     "name": "stdout",
     "output_type": "stream",
     "text": [
      "[0 1 2 3]\n",
      "[4 5 6 7]\n",
      "[ 8  9 10 11]\n"
     ]
    },
    {
     "data": {
      "text/plain": [
       "array([[ 0,  4,  8],\n",
       "       [ 1,  5,  9],\n",
       "       [ 2,  6, 10],\n",
       "       [ 3,  7, 11]])"
      ]
     },
     "execution_count": 126,
     "metadata": {},
     "output_type": "execute_result"
    }
   ],
   "source": [
    "a2\n",
    "for i in a2:\n",
    "    print(i)\n",
    "np.transpose(a2)\n",
    "# shorthand for transpose\n",
    "a2.T"
   ]
  },
  {
   "cell_type": "code",
   "execution_count": 127,
   "id": "7ff939b5-e679-4462-af46-854569c29740",
   "metadata": {},
   "outputs": [
    {
     "data": {
      "text/plain": [
       "array([0, 1, 2, 3, 4, 5, 6, 7])"
      ]
     },
     "execution_count": 127,
     "metadata": {},
     "output_type": "execute_result"
    }
   ],
   "source": [
    "a3.ravel()"
   ]
  },
  {
   "cell_type": "code",
   "execution_count": 136,
   "id": "708652b9-c502-4e02-becd-00ab3711998d",
   "metadata": {},
   "outputs": [],
   "source": [
    "# Stacking - to combine multiple data togeather!\n",
    "a4=np.arange(12).reshape(3,4)\n",
    "a5=np.arange(12,24).reshape(3,4)"
   ]
  },
  {
   "cell_type": "code",
   "execution_count": 137,
   "id": "958d7d6f-429b-430f-b030-144b27b277a3",
   "metadata": {},
   "outputs": [
    {
     "name": "stdout",
     "output_type": "stream",
     "text": [
      "[[12 13 14 15]\n",
      " [16 17 18 19]\n",
      " [20 21 22 23]]\n",
      "[[ 0  1  2  3 12 13 14 15]\n",
      " [ 4  5  6  7 16 17 18 19]\n",
      " [ 8  9 10 11 20 21 22 23]]\n"
     ]
    }
   ],
   "source": [
    "print(a5)\n",
    "a6=np.hstack((a4,a5))\n",
    "print(a6)"
   ]
  },
  {
   "cell_type": "code",
   "execution_count": 139,
   "id": "f0b03493-4e06-4340-96fc-ba776c8d3111",
   "metadata": {},
   "outputs": [
    {
     "name": "stdout",
     "output_type": "stream",
     "text": [
      "[[ 0  1  2  3]\n",
      " [ 4  5  6  7]\n",
      " [ 8  9 10 11]\n",
      " [12 13 14 15]\n",
      " [16 17 18 19]\n",
      " [20 21 22 23]]\n"
     ]
    }
   ],
   "source": [
    "a7=np.vstack((a4,a5))\n",
    "print(a7)"
   ]
  },
  {
   "cell_type": "code",
   "execution_count": 2,
   "id": "b6f2805d-69d3-4b01-9023-df756c811498",
   "metadata": {},
   "outputs": [
    {
     "name": "stdout",
     "output_type": "stream",
     "text": [
      "0.8214676380157471\n"
     ]
    }
   ],
   "source": [
    "# speed\n",
    "a=[i for i in range(10000000)]\n",
    "b=[i for i in range(10000000,20000000)]\n",
    "import time\n",
    "\n",
    "start=time.time()\n",
    "c=[]\n",
    "for i in range(len(a)):\n",
    "    c.append(a[i]+b[i])\n",
    "print(time.time()-start)\n",
    "\n",
    "# list"
   ]
  },
  {
   "cell_type": "code",
   "execution_count": 3,
   "id": "6431805f-c8b1-413c-a431-1bf01263d1f4",
   "metadata": {},
   "outputs": [
    {
     "name": "stdout",
     "output_type": "stream",
     "text": [
      "0.0807199478149414\n"
     ]
    }
   ],
   "source": [
    "#numpy\n",
    "import numpy as np\n",
    "a=np.arange(10000000)\n",
    "b=np.arange(10000000,20000000)\n",
    "start=time.time();\n",
    "\n",
    "c=a+b;\n",
    "print(time.time()-start)"
   ]
  },
  {
   "cell_type": "code",
   "execution_count": 6,
   "id": "fefb772a-d692-4dae-859c-fc6d399c92b0",
   "metadata": {},
   "outputs": [
    {
     "name": "stdout",
     "output_type": "stream",
     "text": [
      "10.176761262272422\n"
     ]
    },
    {
     "data": {
      "text/plain": [
       "80000112"
      ]
     },
     "execution_count": 6,
     "metadata": {},
     "output_type": "execute_result"
    }
   ],
   "source": [
    "#memory\n",
    "print(0.8214676380157471/0.0807199478149414)\n",
    "\n",
    "import sys;\n",
    "\n",
    "sys.getsizeof(a)"
   ]
  },
  {
   "cell_type": "code",
   "execution_count": 9,
   "id": "c1b6ea03-59de-4794-ab1b-a75d3e3c10ce",
   "metadata": {},
   "outputs": [
    {
     "data": {
      "text/plain": [
       "10000112"
      ]
     },
     "execution_count": 9,
     "metadata": {},
     "output_type": "execute_result"
    }
   ],
   "source": [
    "a=np.arange(10000000,dtype=np.int8)\n",
    "sys.getsizeof(a)"
   ]
  },
  {
   "cell_type": "code",
   "execution_count": 15,
   "id": "aabc442c-ebfe-4e9f-b502-cad306896c87",
   "metadata": {},
   "outputs": [
    {
     "name": "stdout",
     "output_type": "stream",
     "text": [
      "[[36 78 56 50]\n",
      " [17  4 61 49]\n",
      " [27 10 92  5]\n",
      " [43  1 65  4]\n",
      " [66 29 46 26]\n",
      " [36 64 77 93]]\n"
     ]
    }
   ],
   "source": [
    "#Advance Indexing\n",
    "import numpy as np\n",
    "a=np.random.randint(1,100,24).reshape(6,4)\n",
    "print(a)"
   ]
  },
  {
   "cell_type": "code",
   "execution_count": 20,
   "id": "692e76ae-afb7-4798-88f6-1bd1009a05f0",
   "metadata": {},
   "outputs": [
    {
     "name": "stdout",
     "output_type": "stream",
     "text": [
      "[[ 0  1  2]\n",
      " [ 3  4  5]\n",
      " [ 6  7  8]\n",
      " [ 9 10 11]]\n",
      "[[4 5]\n",
      " [7 8]]\n"
     ]
    }
   ],
   "source": [
    "a=np.arange(12).reshape(4,3)\n",
    "print(a)\n",
    "print(a[1:3,1:3])"
   ]
  },
  {
   "cell_type": "code",
   "execution_count": 23,
   "id": "de7f82fc-5f51-4ad2-9251-d7ed45324238",
   "metadata": {},
   "outputs": [
    {
     "name": "stdout",
     "output_type": "stream",
     "text": [
      "[[0 1 2]\n",
      " [6 7 8]]\n",
      "[[ 0  1  2]\n",
      " [ 6  7  8]\n",
      " [ 9 10 11]]\n"
     ]
    }
   ],
   "source": [
    "#Fancy Indexing\n",
    "# find first and third row\n",
    "print(a[::2])\n",
    "\n",
    "#find first and third and fourth row\n",
    "print(a[[0,2,3]])"
   ]
  },
  {
   "cell_type": "code",
   "execution_count": 28,
   "id": "85183d75-18f9-4f1f-b6fa-b2a316e542fe",
   "metadata": {},
   "outputs": [
    {
     "name": "stdout",
     "output_type": "stream",
     "text": [
      "[[ 0  1  2  3]\n",
      " [ 4  5  6  7]\n",
      " [ 8  9 10 11]\n",
      " [12 13 14 15]\n",
      " [16 17 18 19]\n",
      " [20 21 22 23]]\n",
      "[[ 0  1  2  3]\n",
      " [ 8  9 10 11]\n",
      " [12 13 14 15]\n",
      " [20 21 22 23]]\n",
      "[[ 0  2  3]\n",
      " [ 4  6  7]\n",
      " [ 8 10 11]\n",
      " [12 14 15]\n",
      " [16 18 19]\n",
      " [20 22 23]]\n"
     ]
    }
   ],
   "source": [
    "b=np.arange(24).reshape(6,4)\n",
    "print(b)\n",
    "#print 1,3,4,6 rows\n",
    "print(b[[0,2,3,5]])\n",
    "\n",
    "# print 1,2,3 column\n",
    "print(b[:,[0,2,3]]) #fancy indexing!"
   ]
  },
  {
   "cell_type": "code",
   "execution_count": 30,
   "id": "bdf39d8e-d27c-4199-825f-b5fdc3a7bdfd",
   "metadata": {},
   "outputs": [
    {
     "name": "stdout",
     "output_type": "stream",
     "text": [
      "[[90 51  2 63]\n",
      " [68 65 86 94]\n",
      " [42 42 33 67]\n",
      " [51 21 63 38]\n",
      " [72 29 57 59]\n",
      " [78 60 54 84]]\n"
     ]
    }
   ],
   "source": [
    "#boolean indexing!\n",
    "d=np.random.randint(1,100,24).reshape(6,4)\n",
    "print(d)"
   ]
  },
  {
   "cell_type": "code",
   "execution_count": 37,
   "id": "8ea42852-6016-423d-a826-49f0480d0120",
   "metadata": {},
   "outputs": [
    {
     "name": "stdout",
     "output_type": "stream",
     "text": [
      "[90  2 68 86 94 42 42 38 72 78 60 54 84]\n"
     ]
    }
   ],
   "source": [
    "#find all the numbers which is greater than 50\n",
    "d>50 # the result is known as boolean array\n",
    "d[d>50] # filter the data based on condition!\n",
    "\n",
    "print(d[d%2==0])"
   ]
  },
  {
   "cell_type": "code",
   "execution_count": 38,
   "id": "0a92160e-9795-476c-b397-bf94f820312e",
   "metadata": {},
   "outputs": [
    {
     "data": {
      "text/plain": [
       "array([90, 68, 86, 94, 72, 78, 60, 54, 84])"
      ]
     },
     "execution_count": 38,
     "metadata": {},
     "output_type": "execute_result"
    }
   ],
   "source": [
    "#find all the numbers greater than 50 and are even\n",
    "d[(d>50) & (d%2==0)]"
   ]
  },
  {
   "cell_type": "code",
   "execution_count": 43,
   "id": "2bda8b1a-1d2c-4025-8658-e56aa78a480d",
   "metadata": {},
   "outputs": [
    {
     "data": {
      "text/plain": [
       "array([90, 51,  2, 68, 65, 86, 94, 33, 67, 51, 38, 72, 29, 57, 59, 78, 60,\n",
       "       54])"
      ]
     },
     "execution_count": 43,
     "metadata": {},
     "output_type": "execute_result"
    }
   ],
   "source": [
    "#find all the numbers not divisible by 7\n",
    "d[d%7!=0]"
   ]
  },
  {
   "cell_type": "code",
   "execution_count": 44,
   "id": "17e48677-fee2-4fd5-96f3-066a1e19b832",
   "metadata": {},
   "outputs": [],
   "source": [
    "\n",
    "# \"Everyone Believes in Me—Except Me\"\n",
    "\n",
    "# It’s like standing in front of the goal, the ball at my feet. The perfect pass has come my way, the goalkeeper is out of position, and the crowd is already celebrating. I just have to take the shot.\n",
    "\n",
    "# But my legs feel heavy. My mind fills with doubt. What if I miss?\n",
    "\n",
    "# From the sidelines, my friends are shouting, “You got this!” They see my potential, my ability. But in this moment, I don’t see it myself.\n",
    "\n",
    "# Maybe confidence isn’t about knowing you’ll score—it’s about taking the shot anyway.\n",
    "\n",
    "# So today, I’m kicking the ball. Let’s see where it lands. ⚽🔥\n"
   ]
  },
  {
   "cell_type": "code",
   "execution_count": 50,
   "id": "4c411263-b35f-4437-90ba-a282c7df35e7",
   "metadata": {},
   "outputs": [
    {
     "name": "stdout",
     "output_type": "stream",
     "text": [
      "[[0 1 2]\n",
      " [3 4 5]]\n",
      "[[ 6  7  8]\n",
      " [ 9 10 11]]\n",
      "[[ 6  8 10]\n",
      " [12 14 16]]\n"
     ]
    }
   ],
   "source": [
    "#Broadcasting!\n",
    "\n",
    "a=np.arange(6).reshape(2,3)\n",
    "b=np.arange(6,12).reshape(2,3)\n",
    "print(a)\n",
    "print(b)\n",
    "print(a+b)"
   ]
  },
  {
   "cell_type": "code",
   "execution_count": 54,
   "id": "25f4d85f-0fec-49c2-b964-5454c9a4138a",
   "metadata": {},
   "outputs": [
    {
     "name": "stdout",
     "output_type": "stream",
     "text": [
      "[[0 1 2]\n",
      " [3 4 5]]\n",
      "[[0 1 2]]\n",
      "[[0 2 4]\n",
      " [3 5 7]]\n"
     ]
    }
   ],
   "source": [
    "a=np.arange(6).reshape(2,3)\n",
    "b=np.arange(3).reshape(1,3)\n",
    "print(a)\n",
    "print(b)\n",
    "print(a+b) #broadcasting!"
   ]
  },
  {
   "attachments": {
    "5993e331-09f8-49f0-b829-1f64605b6a2e.png": {
     "image/png": "[encoded data removed]"
    },
    "65e8ce3d-1f7d-4a3a-b7fa-8490b5873f17.png": {
     "image/png": "[encoded data removed]"
    }
   },
   "cell_type": "markdown",
   "id": "8cc5d29b-c1a0-45d4-8bd6-4ec2978bb725",
   "metadata": {},
   "source": [
    "![image.png](attachment:5993e331-09f8-49f0-b829-1f64605b6a2e.png)![image.png](attachment:65e8ce3d-1f7d-4a3a-b7fa-8490b5873f17.png)"
   ]
  },
  {
   "cell_type": "markdown",
   "id": "bc76895c-55cb-47e9-80fb-0ac93eaac294",
   "metadata": {},
   "source": [
    "## Broadcasting Rules\n",
    "\n",
    "**1. Make the two arrays have the same number of dimensions.**<br>\n",
    "- If the numbers of dimensions of the two arrays are different, add new dimensions with size 1 to the head of the array with the smaller dimension.<br>\n",
    "\n",
    "**2. Make each dimension of the two arrays the same size.**<br>\n",
    "- If the sizes of each dimension of the two arrays do not match, dimensions with size 1 are stretched to the size of the other array.\n",
    "- If there is a dimension whose size is not 1 in either of the two arrays, it cannot be broadcasted, and an error is raised."
   ]
  },
  {
   "cell_type": "code",
   "execution_count": 68,
   "id": "4a11d228-317c-41e6-8918-eaad07dc37ec",
   "metadata": {},
   "outputs": [
    {
     "name": "stdout",
     "output_type": "stream",
     "text": [
      "[ 1.  2.  3.  4. nan  6.]\n",
      "[1. 2. 3. 4. 6.]\n"
     ]
    }
   ],
   "source": [
    "#how to deal with the missing value!\n",
    "a=np.array([1,2,3,4,np.nan,6])\n",
    "print(a) \n",
    "b=np.isnan(a)\n",
    "print(a[~b]);"
   ]
  },
  {
   "cell_type": "code",
   "execution_count": 6,
   "id": "0390ccd9-471a-4271-afb0-d946ca1c6356",
   "metadata": {},
   "outputs": [
    {
     "data": {
      "text/plain": [
       "[<matplotlib.lines.Line2D at 0x7b4b69b5b200>]"
      ]
     },
     "execution_count": 6,
     "metadata": {},
     "output_type": "execute_result"
    },
    {
     "data": {
      "image/png": "[encoded data removed]",
      "text/plain": [
       "<Figure size 640x480 with 1 Axes>"
      ]
     },
     "metadata": {},
     "output_type": "display_data"
    }
   ],
   "source": [
    "import matplotlib.pyplot as plt\n",
    "x=np.linspace(-10,10,100)\n",
    "y=x\n",
    "y\n",
    "\n",
    "plt.plot(x,y)"
   ]
  },
  {
   "cell_type": "code",
   "execution_count": null,
   "id": "37306cd4-e202-4402-8b2c-6c8e1d958e65",
   "metadata": {},
   "outputs": [],
   "source": []
  }
 ],
 "metadata": {
  "kernelspec": {
   "display_name": "Python 3 (ipykernel)",
   "language": "python",
   "name": "python3"
  },
  "language_info": {
   "codemirror_mode": {
    "name": "ipython",
    "version": 3
   },
   "file_extension": ".py",
   "mimetype": "text/x-python",
   "name": "python",
   "nbconvert_exporter": "python",
   "pygments_lexer": "ipython3",
   "version": "3.12.9"
  }
 },
 "nbformat": 4,
 "nbformat_minor": 5
}
