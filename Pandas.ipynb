{
 "cells": [
  {
   "cell_type": "code",
   "execution_count": 2,
   "id": "8a609b35-f143-4a74-9690-a7fd9da75f33",
   "metadata": {},
   "outputs": [],
   "source": [
    "import numpy as np\n",
    "import pandas as pd"
   ]
  },
  {
   "cell_type": "code",
   "execution_count": 3,
   "id": "0d3f4687-c51b-4ada-8dd0-46c3a2ddbddf",
   "metadata": {},
   "outputs": [
    {
     "name": "stdout",
     "output_type": "stream",
     "text": [
      "0        India\n",
      "1     Pakistan\n",
      "2        Nepal\n",
      "3    Sri Lanka\n",
      "4          USA\n",
      "dtype: object\n"
     ]
    }
   ],
   "source": [
    "country=[\"India\",\"Pakistan\",\"Nepal\",\"Sri Lanka\",\"USA\"]\n",
    "series=pd.Series(country)\n",
    "print(series)"
   ]
  },
  {
   "cell_type": "code",
   "execution_count": 15,
   "id": "50c69b9d-5fd2-4526-989e-73ccc04e40cd",
   "metadata": {},
   "outputs": [
    {
     "name": "stdout",
     "output_type": "stream",
     "text": [
      "0     13\n",
      "1     24\n",
      "2     56\n",
      "3     78\n",
      "4    100\n",
      "dtype: int64\n"
     ]
    }
   ],
   "source": [
    "runs=[13,24,56,78,100]\n",
    "runSeries=pd.Series(runs)\n",
    "print(runSeries)"
   ]
  },
  {
   "cell_type": "code",
   "execution_count": 20,
   "id": "e664986c-63be-4145-82ab-11845aeade70",
   "metadata": {},
   "outputs": [
    {
     "name": "stdout",
     "output_type": "stream",
     "text": [
      "maths       67\n",
      "english     57\n",
      "science     89\n",
      "hindi      100\n",
      "Name: Praveer k marks, dtype: int64\n",
      "The size of the  4\n",
      "is unique  True\n"
     ]
    }
   ],
   "source": [
    "marks=[67,57,89,100]\n",
    "subjects=['maths','english','science','hindi']\n",
    "\n",
    "marks=pd.Series(marks,index=subjects,name=\"Praveer k marks\")\n",
    "print(marks)\n",
    "print(\"The size of the \",marks.size)\n",
    "marks.dtype\n",
    "print(\"is unique \",marks.is_unique)"
   ]
  },
  {
   "cell_type": "raw",
   "id": "847f0e8b-1a8a-41a2-a4bc-b76e893ccba6",
   "metadata": {},
   "source": [
    "import pandas as pd\n",
    "pd.Series([1,1,2,3,4,5]).is_unique"
   ]
  },
  {
   "cell_type": "raw",
   "id": "781f53fd-2c34-423b-af85-37ce793ade00",
   "metadata": {},
   "source": [
    "marks.values"
   ]
  },
  {
   "cell_type": "markdown",
   "id": "61394d20-665d-4f24-89b7-05d485b669f4",
   "metadata": {},
   "source": [
    "***** Series using read_csv"
   ]
  },
  {
   "cell_type": "code",
   "execution_count": 25,
   "id": "e05f4a10-9c27-4232-a75a-b1a1129366aa",
   "metadata": {},
   "outputs": [
    {
     "data": {
      "text/html": [
       "<div>\n",
       "<style scoped>\n",
       "    .dataframe tbody tr th:only-of-type {\n",
       "        vertical-align: middle;\n",
       "    }\n",
       "\n",
       "    .dataframe tbody tr th {\n",
       "        vertical-align: top;\n",
       "    }\n",
       "\n",
       "    .dataframe thead th {\n",
       "        text-align: right;\n",
       "    }\n",
       "</style>\n",
       "<table border=\"1\" class=\"dataframe\">\n",
       "  <thead>\n",
       "    <tr style=\"text-align: right;\">\n",
       "      <th></th>\n",
       "      <th>movie</th>\n",
       "      <th>lead</th>\n",
       "    </tr>\n",
       "  </thead>\n",
       "  <tbody>\n",
       "    <tr>\n",
       "      <th>0</th>\n",
       "      <td>Uri: The Surgical Strike</td>\n",
       "      <td>Vicky Kaushal</td>\n",
       "    </tr>\n",
       "    <tr>\n",
       "      <th>1</th>\n",
       "      <td>Battalion 609</td>\n",
       "      <td>Vicky Ahuja</td>\n",
       "    </tr>\n",
       "    <tr>\n",
       "      <th>2</th>\n",
       "      <td>The Accidental Prime Minister (film)</td>\n",
       "      <td>Anupam Kher</td>\n",
       "    </tr>\n",
       "    <tr>\n",
       "      <th>3</th>\n",
       "      <td>Why Cheat India</td>\n",
       "      <td>Emraan Hashmi</td>\n",
       "    </tr>\n",
       "    <tr>\n",
       "      <th>4</th>\n",
       "      <td>Evening Shadows</td>\n",
       "      <td>Mona Ambegaonkar</td>\n",
       "    </tr>\n",
       "  </tbody>\n",
       "</table>\n",
       "</div>"
      ],
      "text/plain": [
       "                                  movie              lead\n",
       "0              Uri: The Surgical Strike     Vicky Kaushal\n",
       "1                         Battalion 609       Vicky Ahuja\n",
       "2  The Accidental Prime Minister (film)       Anupam Kher\n",
       "3                       Why Cheat India     Emraan Hashmi\n",
       "4                       Evening Shadows  Mona Ambegaonkar"
      ]
     },
     "execution_count": 25,
     "metadata": {},
     "output_type": "execute_result"
    }
   ],
   "source": [
    "import pandas as pd\n",
    "bollywood=pd.read_csv(\"bollywood.csv\")\n",
    "bollywood.head()"
   ]
  },
  {
   "cell_type": "code",
   "execution_count": 17,
   "id": "36f9d532-5d54-4309-b26e-80f9e2346bba",
   "metadata": {},
   "outputs": [
    {
     "data": {
      "text/html": [
       "<div>\n",
       "<style scoped>\n",
       "    .dataframe tbody tr th:only-of-type {\n",
       "        vertical-align: middle;\n",
       "    }\n",
       "\n",
       "    .dataframe tbody tr th {\n",
       "        vertical-align: top;\n",
       "    }\n",
       "\n",
       "    .dataframe thead th {\n",
       "        text-align: right;\n",
       "    }\n",
       "</style>\n",
       "<table border=\"1\" class=\"dataframe\">\n",
       "  <thead>\n",
       "    <tr style=\"text-align: right;\">\n",
       "      <th></th>\n",
       "      <th>movie</th>\n",
       "      <th>lead</th>\n",
       "    </tr>\n",
       "  </thead>\n",
       "  <tbody>\n",
       "    <tr>\n",
       "      <th>1497</th>\n",
       "      <td>Saathiya (film)</td>\n",
       "      <td>Vivek Oberoi</td>\n",
       "    </tr>\n",
       "    <tr>\n",
       "      <th>1498</th>\n",
       "      <td>Company (film)</td>\n",
       "      <td>Ajay Devgn</td>\n",
       "    </tr>\n",
       "    <tr>\n",
       "      <th>1499</th>\n",
       "      <td>Awara Paagal Deewana</td>\n",
       "      <td>Akshay Kumar</td>\n",
       "    </tr>\n",
       "  </tbody>\n",
       "</table>\n",
       "</div>"
      ],
      "text/plain": [
       "                     movie          lead\n",
       "1497       Saathiya (film)  Vivek Oberoi\n",
       "1498        Company (film)    Ajay Devgn\n",
       "1499  Awara Paagal Deewana  Akshay Kumar"
      ]
     },
     "execution_count": 17,
     "metadata": {},
     "output_type": "execute_result"
    }
   ],
   "source": [
    "bollywood.tail(3)"
   ]
  },
  {
   "cell_type": "code",
   "execution_count": 21,
   "id": "a077ba8e-e984-4553-825e-a08416510730",
   "metadata": {},
   "outputs": [
    {
     "data": {
      "text/plain": [
       "movie                     lead           \n",
       "Andaaz                    Akshay Kumar       2\n",
       "Tanu Weds Manu: Returns   Kangana Ranaut     2\n",
       "Gabbar Is Back            Akshay Kumar       2\n",
       "Noor (film)               Sunny Leone        1\n",
       "No Smoking (2007 film)    John Abraham       1\n",
       "                                            ..\n",
       "Genius (2018 Hindi film)  Utkarsh Sharma     1\n",
       "Gayab                     Tusshar Kapoor     1\n",
       "Gauri: The Unborn         Mohan Azaad        1\n",
       "Gattu                     Naresh Sharma      1\n",
       "Global Baba               Pankaj Tripathi    1\n",
       "Name: count, Length: 1497, dtype: int64"
      ]
     },
     "execution_count": 21,
     "metadata": {},
     "output_type": "execute_result"
    }
   ],
   "source": [
    "bollywood.value_counts()"
   ]
  },
  {
   "cell_type": "code",
   "execution_count": null,
   "id": "9c17d97b-5f24-4bdc-8000-985ff70b0b08",
   "metadata": {},
   "outputs": [],
   "source": []
  }
 ],
 "metadata": {
  "kernelspec": {
   "display_name": "Python 3 (ipykernel)",
   "language": "python",
   "name": "python3"
  },
  "language_info": {
   "codemirror_mode": {
    "name": "ipython",
    "version": 3
   },
   "file_extension": ".py",
   "mimetype": "text/x-python",
   "name": "python",
   "nbconvert_exporter": "python",
   "pygments_lexer": "ipython3",
   "version": "3.12.9"
  }
 },
 "nbformat": 4,
 "nbformat_minor": 5
}
